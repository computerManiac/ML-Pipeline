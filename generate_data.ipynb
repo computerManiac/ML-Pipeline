{
 "cells": [
  {
   "cell_type": "code",
   "execution_count": 1,
   "metadata": {},
   "outputs": [],
   "source": [
    "import numpy as np\n",
    "import pandas as pd"
   ]
  },
  {
   "cell_type": "code",
   "execution_count": 5,
   "metadata": {},
   "outputs": [],
   "source": [
    "def func(x1,x2,x3,x4):\n",
    "    w1,w2,w3,w4,b = 0.1,10,10089,99,15\n",
    "    return w1*np.power(x1,2) + w2*x2 + w3*np.power(x3,0.5) - w4*x4 + b"
   ]
  },
  {
   "cell_type": "code",
   "execution_count": 6,
   "metadata": {},
   "outputs": [],
   "source": [
    "data = []\n",
    "samples = 1000\n",
    "\n",
    "for i in range(samples):\n",
    "    x1 = np.random.uniform(100,300)\n",
    "    x2 = np.random.uniform(67,76)\n",
    "    x3 = np.random.uniform(1000,2450)\n",
    "    x4 = np.random.uniform(10,100)\n",
    "    \n",
    "    data.append({'x1':x1, 'x2':x2, 'x3':x3, 'x4':x4, 'y':func(x1,x2,x3,x4)})"
   ]
  },
  {
   "cell_type": "code",
   "execution_count": 8,
   "metadata": {},
   "outputs": [
    {
     "data": {
      "text/html": [
       "<div>\n",
       "<style scoped>\n",
       "    .dataframe tbody tr th:only-of-type {\n",
       "        vertical-align: middle;\n",
       "    }\n",
       "\n",
       "    .dataframe tbody tr th {\n",
       "        vertical-align: top;\n",
       "    }\n",
       "\n",
       "    .dataframe thead th {\n",
       "        text-align: right;\n",
       "    }\n",
       "</style>\n",
       "<table border=\"1\" class=\"dataframe\">\n",
       "  <thead>\n",
       "    <tr style=\"text-align: right;\">\n",
       "      <th></th>\n",
       "      <th>x1</th>\n",
       "      <th>x2</th>\n",
       "      <th>x3</th>\n",
       "      <th>x4</th>\n",
       "      <th>y</th>\n",
       "    </tr>\n",
       "  </thead>\n",
       "  <tbody>\n",
       "    <tr>\n",
       "      <th>0</th>\n",
       "      <td>174.509201</td>\n",
       "      <td>75.671515</td>\n",
       "      <td>1663.349303</td>\n",
       "      <td>81.145743</td>\n",
       "      <td>407255.220306</td>\n",
       "    </tr>\n",
       "    <tr>\n",
       "      <th>1</th>\n",
       "      <td>220.769442</td>\n",
       "      <td>72.303253</td>\n",
       "      <td>1748.903590</td>\n",
       "      <td>25.827367</td>\n",
       "      <td>424975.955168</td>\n",
       "    </tr>\n",
       "    <tr>\n",
       "      <th>2</th>\n",
       "      <td>128.831034</td>\n",
       "      <td>73.176845</td>\n",
       "      <td>2056.125568</td>\n",
       "      <td>10.005349</td>\n",
       "      <td>458896.852894</td>\n",
       "    </tr>\n",
       "    <tr>\n",
       "      <th>3</th>\n",
       "      <td>165.007266</td>\n",
       "      <td>72.578671</td>\n",
       "      <td>1339.268965</td>\n",
       "      <td>60.806274</td>\n",
       "      <td>366660.990447</td>\n",
       "    </tr>\n",
       "    <tr>\n",
       "      <th>4</th>\n",
       "      <td>197.030909</td>\n",
       "      <td>67.574451</td>\n",
       "      <td>1845.152762</td>\n",
       "      <td>81.675838</td>\n",
       "      <td>429862.384695</td>\n",
       "    </tr>\n",
       "  </tbody>\n",
       "</table>\n",
       "</div>"
      ],
      "text/plain": [
       "           x1         x2           x3         x4              y\n",
       "0  174.509201  75.671515  1663.349303  81.145743  407255.220306\n",
       "1  220.769442  72.303253  1748.903590  25.827367  424975.955168\n",
       "2  128.831034  73.176845  2056.125568  10.005349  458896.852894\n",
       "3  165.007266  72.578671  1339.268965  60.806274  366660.990447\n",
       "4  197.030909  67.574451  1845.152762  81.675838  429862.384695"
      ]
     },
     "execution_count": 8,
     "metadata": {},
     "output_type": "execute_result"
    }
   ],
   "source": [
    "df = pd.DataFrame(data)\n",
    "df.head()"
   ]
  },
  {
   "cell_type": "code",
   "execution_count": 10,
   "metadata": {},
   "outputs": [],
   "source": [
    "df.to_csv('sample_data.csv')"
   ]
  },
  {
   "cell_type": "code",
   "execution_count": null,
   "metadata": {},
   "outputs": [],
   "source": []
  }
 ],
 "metadata": {
  "kernelspec": {
   "display_name": "Python 3",
   "language": "python",
   "name": "python3"
  },
  "language_info": {
   "codemirror_mode": {
    "name": "ipython",
    "version": 3
   },
   "file_extension": ".py",
   "mimetype": "text/x-python",
   "name": "python",
   "nbconvert_exporter": "python",
   "pygments_lexer": "ipython3",
   "version": "3.7.6"
  }
 },
 "nbformat": 4,
 "nbformat_minor": 4
}
